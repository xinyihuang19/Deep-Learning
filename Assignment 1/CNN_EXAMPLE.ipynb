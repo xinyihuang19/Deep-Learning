{
  "cells": [
    {
      "cell_type": "markdown",
      "metadata": {
        "id": "AV9LBf4nBDg_"
      },
      "source": [
        "# CNNs in PyTorch\n",
        "\n",
        "In this assignment, you'll implement some Convolutional Neural Networks (CNNs) in PyTorch."
      ]
    },
    {
      "cell_type": "markdown",
      "metadata": {
        "id": "ppx9vYd7U9fu"
      },
      "source": [
        "## Setting up\n",
        "\n",
        "We'll start by importing the following:\n",
        "- [`torch`](https://pytorch.org/docs/stable/torch.html) - the core PyTorch library.\n",
        "- [`torch.nn`](https://pytorch.org/docs/stable/nn.html) - a module containing building blocks for NNs such as linear layers, convolutional layers, and so on.\n",
        "- [`torch.nn.functional`](https://pytorch.org/docs/stable/nn.functional.html) - a module containing activation functions, loss functions, and so on.\n",
        "- [`torch.optim`](https://pytorch.org/docs/stable/optim.html) - a module containing optimizers which update the parameters of a NN.\n",
        "- [`DataLoader`](https://pytorch.org/docs/stable/data.html#torch.utils.data.DataLoader) in [`torch.utils.data`](https://pytorch.org/docs/stable/data.html) - Can be used to batch data together and iterate over batches, shuffle data, and parallelize the training process to speed it up.\n",
        "- [`MNIST`](https://pytorch.org/vision/stable/generated/torchvision.datasets.MNIST.html) in [`torchvision.datasets`](https://pytorch.org/vision/stable/datasets.html) - The [MNIST dataset](https://en.wikipedia.org/wiki/MNIST_database) is a collection of images of handwritten digits.\n",
        "- [`ToTensor`](https://pytorch.org/vision/stable/generated/torchvision.transforms.ToTensor.html#torchvision.transforms.ToTensor) in [`torchvision.transforms`](https://pytorch.org/vision/0.9/transforms.html) - Converts PIL images or NumPy arrays to PyTorch tensors."
      ]
    },
    {
      "cell_type": "code",
      "execution_count": 1,
      "metadata": {
        "id": "l74HSkVDtdzo"
      },
      "outputs": [],
      "source": [
        "# imports\n",
        "import torch\n",
        "import torch.nn as nn\n",
        "import torch.nn.functional as F\n",
        "import torch.optim as optim\n",
        "from torch.utils.data import DataLoader\n",
        "\n",
        "from torchvision.datasets import CIFAR10, MNIST\n",
        "from torchvision.transforms.v2 import ToTensor\n",
        "from torchvision import datasets, transforms"
      ]
    },
    {
      "cell_type": "markdown",
      "metadata": {
        "id": "pmcSEpkOcA6p"
      },
      "source": [
        "## Data\n",
        "\n",
        "Let's define a transformation for the [CIFAR10 dataset](https://en.wikipedia.org/wiki/CIFAR-10).\n",
        "\n",
        "We'll first cast the images to PyTorch tensors using [`transforms.ToTensor()`](https://pytorch.org/vision/master/generated/torchvision.transforms.ToTensor.html). These tensors are automatically normalized such that their values are between 0 and 1.\n",
        "\n",
        "Then, we'll re-normalize the pixel values with [`transforms.Normalize()`](https://pytorch.org/vision/main/generated/torchvision.transforms.Normalize.html) to conform approximately to a standard normal distribution, assuming the mean and standard deviation of any channel of the returned tensor to be 0.5. This is not an unreasonable assumption. It's also a fairly standard thing to do to squash inputs to be in (or close to) the range [-1,1], which is where neural networks work best in terms of converging when performing optimization."
      ]
    },
    {
      "cell_type": "code",
      "execution_count": 2,
      "metadata": {
        "id": "OjvbG0f7hF3N"
      },
      "outputs": [],
      "source": [
        "# CIFAR-10 transform - three channels, normalize with 3 means and 3 SDs\n",
        "cifar_transform = transforms.Compose([\n",
        "    transforms.ToTensor(),\n",
        "    transforms.Normalize([0.5, 0.5, 0.5], [0.5, 0.5, 0.5])\n",
        "])\n",
        "\n",
        "# MNIST transform - single channel, so only 1 mean and 1 SD\n",
        "mnist_transform = transforms.Compose([\n",
        "    transforms.ToTensor(),\n",
        "    transforms.Normalize((0.1308,), (0.3016,))\n",
        "])"
      ]
    },
    {
      "cell_type": "markdown",
      "metadata": {
        "id": "8RI612Kn8jUX"
      },
      "source": [
        "Let's load up the CIFAR-10 dataset. You can specify the split you want using `train=True|False`. `root` is the directory where the dataset will be saved. You can also directly apply the transform from the previous cell by specifying `transform`."
      ]
    },
    {
      "cell_type": "code",
      "execution_count": 3,
      "metadata": {
        "colab": {
          "base_uri": "https://localhost:8080/"
        },
        "id": "Ob7JPEEabfTR",
        "outputId": "0f5f7579-b19c-404b-ad1a-d70a9744e651"
      },
      "outputs": [
        {
          "output_type": "stream",
          "name": "stdout",
          "text": [
            "Downloading https://www.cs.toronto.edu/~kriz/cifar-10-python.tar.gz to ./data/cifar-10-python.tar.gz\n"
          ]
        },
        {
          "output_type": "stream",
          "name": "stderr",
          "text": [
            "100%|██████████| 170498071/170498071 [00:08<00:00, 19959688.27it/s]\n"
          ]
        },
        {
          "output_type": "stream",
          "name": "stdout",
          "text": [
            "Extracting ./data/cifar-10-python.tar.gz to ./data\n",
            "Files already downloaded and verified\n"
          ]
        }
      ],
      "source": [
        "# CIFAR10 data\n",
        "full_train_dataset = CIFAR10(\n",
        "    root='./data',\n",
        "    train=True,\n",
        "    download=True,\n",
        "    transform=cifar_transform\n",
        ")\n",
        "\n",
        "val_dataset = CIFAR10(\n",
        "    root='./data',\n",
        "    train=False,\n",
        "    download=True,\n",
        "    transform=cifar_transform\n",
        ")\n",
        "\n",
        "# CIFAR10 test data\n",
        "from sklearn.model_selection import train_test_split\n",
        "train_dataset, test_dataset = train_test_split(full_train_dataset, test_size=0.2, random_state=42)"
      ]
    },
    {
      "cell_type": "markdown",
      "metadata": {
        "id": "lb2XIf19cnsq"
      },
      "source": [
        "Let's define `DataLoader` objects for the CIFAR10 data now.\n",
        "\n",
        "We'll use a (mini) batch size of 32. It's common to use powers of 2 in deep learning because it's more efficient to handle such numbers on hardware.\n",
        "\n",
        "We'll define separate `DataLoader` objects to handle our training and test splits to avoid data leakage (training on the test set or testing on the train set).\n",
        "\n",
        "We'll also have the `DataLoader` objects shuffle our data whenever we iterate over them (`shuffle=True`). Shuffling data at each epoch is beneficial in that the model won't be optimized in a way that depends on a specific ordering of the data.\n",
        "\n",
        "Finally, we'll parallelize the loading of the data using 4 CPU processes to load data (`num_workers=4`)."
      ]
    },
    {
      "cell_type": "code",
      "execution_count": 4,
      "metadata": {
        "id": "93SCDUnGji8m",
        "colab": {
          "base_uri": "https://localhost:8080/"
        },
        "outputId": "a1c61277-d10d-40c0-b853-d5b643fc02c0"
      },
      "outputs": [
        {
          "output_type": "stream",
          "name": "stderr",
          "text": [
            "/usr/local/lib/python3.10/dist-packages/torch/utils/data/dataloader.py:557: UserWarning: This DataLoader will create 4 worker processes in total. Our suggested max number of worker in current system is 2, which is smaller than what this DataLoader is going to create. Please be aware that excessive worker creation might get DataLoader running slow or even freeze, lower the worker number to avoid potential slowness/freeze if necessary.\n",
            "  warnings.warn(_create_warning_msg(\n"
          ]
        }
      ],
      "source": [
        "# dataloaders\n",
        "batch_size = 32\n",
        "\n",
        "train_loader = DataLoader(\n",
        "    train_dataset,\n",
        "    batch_size=batch_size,\n",
        "    shuffle=True,\n",
        "    num_workers=4\n",
        ")\n",
        "\n",
        "val_loader = DataLoader(\n",
        "    val_dataset,\n",
        "    batch_size=batch_size,\n",
        "    shuffle=True,\n",
        "    num_workers=4\n",
        ")\n",
        "\n",
        "test_loader = DataLoader(\n",
        "    test_dataset,\n",
        "    batch_size=batch_size,\n",
        "    shuffle=False,\n",
        "    num_workers=2\n",
        ")"
      ]
    },
    {
      "cell_type": "markdown",
      "metadata": {
        "id": "KZpzVZUjcJSi"
      },
      "source": [
        "## Defining and training CNNs\n",
        "\n",
        "We'll define `criterion` to be [`nn.CrossEntropyLoss`](https://pytorch.org/docs/stable/generated/torch.nn.CrossEntropyLoss.html), a common loss function used to train classification models.\n",
        "\n",
        "We'll also define a Stochastic Gradient Descent optmizizer ([`optim.SGD`](https://pytorch.org/docs/stable/generated/torch.optim.SGD.html)), which will optimize the parameters of `net`. We'll set two hyperparameters manually: the learning rate (`lr=0.001`) and the momentum (`momentum=0.9`)."
      ]
    },
    {
      "cell_type": "code",
      "execution_count": 5,
      "metadata": {
        "id": "yNEwqv8rkQNM"
      },
      "outputs": [],
      "source": [
        "# Loss fuction and optimizer\n",
        "def get_crit_and_opt(net):\n",
        "    criterion = nn.CrossEntropyLoss()\n",
        "    optimizer = optim.SGD(net.parameters(), lr=0.001, momentum=0.9)\n",
        "    return criterion, optimizer"
      ]
    },
    {
      "cell_type": "markdown",
      "metadata": {
        "id": "f1kVjROgsGyF"
      },
      "source": [
        "Let's see how [LeNet5](https://ieeexplore.ieee.org/document/726791) (Lecun et al. 1998) is implemented. The architecture looks something like this:"
      ]
    },
    {
      "cell_type": "markdown",
      "metadata": {
        "id": "R-mgpop1bcN7"
      },
      "source": [
        "![](https://drive.google.com/uc?export=view&id=1PwYfmSXqBnosIQi-ewrr03Ibd_lmRtea)"
      ]
    },
    {
      "cell_type": "markdown",
      "metadata": {
        "id": "aAbXzjDJsrWb"
      },
      "source": [
        "LeNet5 is compatible with the MNIST dataset. Let's see how to implement the architecture in PyTorch:"
      ]
    },
    {
      "cell_type": "code",
      "execution_count": 6,
      "metadata": {
        "id": "3wg7aZ5PFfem"
      },
      "outputs": [],
      "source": [
        "class LeNet(nn.Module):\n",
        "\n",
        "    def __init__(self):\n",
        "        super(LeNet, self).__init__()\n",
        "        # 1 input image channel, 6 output channels, 5x5 square convolution\n",
        "        self.conv1 = nn.Conv2d(1, 6, 5)\n",
        "        # 6 input channels to 16 output channels with 5x5 convolution\n",
        "        self.conv2 = nn.Conv2d(6, 16, 5)\n",
        "        # affine operations: y = Wx + b\n",
        "        self.fc1 = nn.Linear(16 * 5 * 5, 120) # 16 channels each of size 5x5 to 1x120 vector\n",
        "        self.fc2 = nn.Linear(120, 84) # 1x120 vector to 1x84 vector\n",
        "        self.fc3 = nn.Linear(84, 10) # 1x84 vector to 1x10 vector\n",
        "\n",
        "    def forward(self, x):\n",
        "        # average pooling over a 2x2 window\n",
        "        x = F.avg_pool2d(F.sigmoid(self.conv1(x)), (2, 2))\n",
        "        # If the size is a square, you can specify with a single number\n",
        "        x = F.avg_pool2d(F.sigmoid(self.conv2(x)), 2)\n",
        "        x = torch.flatten(x, 1) # flatten all dimensions except the batch dimension\n",
        "        x = F.sigmoid(self.fc1(x)) # linear + sig activation\n",
        "        x = F.sigmoid(self.fc2(x)) # linear + sig activation\n",
        "        x = self.fc3(x) # linear\n",
        "        return x"
      ]
    },
    {
      "cell_type": "markdown",
      "metadata": {
        "id": "9BxZoUpss4Pz"
      },
      "source": [
        "In general, a PyTorch neural network definition must:\n",
        "- subclass [`nn.Module`](https://pytorch.org/docs/stable/generated/torch.nn.Module.html)\n",
        "- call `super().__init__()` in the constructor (`__init__()`) method\n",
        "- define the trainable parameters/layers (convolutions, linears, poolings, etc.) in the constructor\n",
        "- define what should happen to the inputs in the `forward()` method"
      ]
    },
    {
      "cell_type": "code",
      "execution_count": 7,
      "metadata": {
        "id": "Wdp9RkPobRuC"
      },
      "outputs": [],
      "source": [
        "# Create your own model for the MNIST data here [20 pts]:\n",
        "class MNISTNet(nn.Module):\n",
        "\n",
        "    def __init__(self):\n",
        "      super(MNISTNet, self).__init__()\n",
        "      self.conv1 = nn.Conv2d(1, 8, 5)\n",
        "      self.conv2 = nn.Conv2d(8, 32, 5)\n",
        "      self.fc1 = nn.Linear(32 * 4 * 4, 120)\n",
        "      self.fc2 = nn.Linear(120, 84)\n",
        "      self.fc3 = nn.Linear(84, 10)\n",
        "\n",
        "    def forward(self, x):\n",
        "        x = F.max_pool2d(F.relu(self.conv1(x)), (2, 2))\n",
        "        x = F.max_pool2d(F.relu(self.conv2(x)), 2)\n",
        "        x = torch.flatten(x, 1)\n",
        "        x = F.relu(self.fc1(x))\n",
        "        x = F.relu(self.fc2(x))\n",
        "        x = self.fc3(x)\n",
        "        return x"
      ]
    },
    {
      "cell_type": "code",
      "execution_count": 8,
      "metadata": {
        "id": "Z8GCyZDZ6iPv"
      },
      "outputs": [],
      "source": [
        "# Create your own model for the CIFAR10 data here [20 pts]:\n",
        "class CIFAR10Net(nn.Module):\n",
        "\n",
        "    def __init__(self):\n",
        "      super(CIFAR10Net, self).__init__()\n",
        "      self.conv1 = nn.Conv2d(3, 32, 3, padding=1)\n",
        "      self.conv2 = nn.Conv2d(32, 64, 3, padding=1)\n",
        "      self.conv3 = nn.Conv2d(64, 128, 3, padding=1)\n",
        "      self.fc1 = nn.Linear(128 * 4 * 4, 256)\n",
        "      self.fc2 = nn.Linear(256, 64)\n",
        "      self.fc3 = nn.Linear(64, 10)\n",
        "\n",
        "    def forward(self, x):\n",
        "      x = F.relu(F.max_pool2d(self.conv1(x), 2))\n",
        "      x = F.relu(F.max_pool2d(self.conv2(x), 2))\n",
        "      x = F.relu(F.max_pool2d(self.conv3(x), 2))\n",
        "      x = torch.flatten(x, 1)\n",
        "      x = F.relu(self.fc1(x))\n",
        "      x = F.relu(self.fc2(x))\n",
        "      x = self.fc3(x)\n",
        "      return x"
      ]
    },
    {
      "cell_type": "markdown",
      "metadata": {
        "id": "pk8hMo_vxzhf"
      },
      "source": [
        "Below is a useful object for tracking losses/performance during training and dev."
      ]
    },
    {
      "cell_type": "code",
      "execution_count": 9,
      "metadata": {
        "id": "ar5E7QTSw56k"
      },
      "outputs": [],
      "source": [
        "class AverageMeter(object):\n",
        "\n",
        "    \"\"\"Computes and stores an average and current value.\"\"\"\n",
        "\n",
        "    def __init__(self):\n",
        "        self.reset()\n",
        "\n",
        "    def reset(self):\n",
        "        self.val = 0\n",
        "        self.avg = 0\n",
        "        self.sum = 0\n",
        "        self.count = 0\n",
        "\n",
        "    def update(self, val, n=1):\n",
        "        self.val = val\n",
        "        self.sum += val * n\n",
        "        self.count += n\n",
        "        self.avg = self.sum / self.count"
      ]
    },
    {
      "cell_type": "markdown",
      "metadata": {
        "id": "Cq2ZTU4-19Hi"
      },
      "source": [
        "We'll define an accuracy metric that flexibly computes top-k accuracies."
      ]
    },
    {
      "cell_type": "code",
      "execution_count": 10,
      "metadata": {
        "id": "er1n5plIlT86"
      },
      "outputs": [],
      "source": [
        "def error_rate(output, target, topk=(1,)):\n",
        "\n",
        "    \"\"\"Computes the top-k error rate for the specified values of k.\"\"\"\n",
        "\n",
        "    maxk = max(topk) # largest k we'll need to work with\n",
        "    batch_size = target.size(0) # determine batch size\n",
        "\n",
        "    # get maxk best predictions for each item in the batch, both values and indices\n",
        "    _, pred = output.topk(maxk, 1, True, True)\n",
        "\n",
        "    # reshape predictions and targets and compare them element-wise\n",
        "    pred = pred.t()\n",
        "    correct = pred.eq(target.view(1, -1).expand_as(pred))\n",
        "\n",
        "    res = []\n",
        "    for k in topk: # for each top-k accuracy we want\n",
        "\n",
        "        # num correct\n",
        "        correct_k = correct[:k].reshape(-1).float().sum(0, keepdim=True)\n",
        "        # num incorrect\n",
        "        wrong_k = batch_size - correct_k\n",
        "        # as a percentage\n",
        "        res.append(wrong_k.mul_(100.0 / batch_size))\n",
        "\n",
        "    return res"
      ]
    },
    {
      "cell_type": "markdown",
      "metadata": {
        "id": "p15LFjPHx6Wd"
      },
      "source": [
        "If you connect to a runtime with a T4 available, this line will ensure computations that can be done on the T4 are done there."
      ]
    },
    {
      "cell_type": "code",
      "execution_count": 11,
      "metadata": {
        "id": "Xaru9TTXbAAG"
      },
      "outputs": [],
      "source": [
        "device = 'cuda' if torch.cuda.is_available() else 'cpu'"
      ]
    },
    {
      "cell_type": "markdown",
      "metadata": {
        "id": "-8WU1ms3yszg"
      },
      "source": [
        "The training function below takes the training set's `DataLoader`, the model we are training, the loss function we are using, and the optimizer for this model.\n",
        "\n",
        "It then trains the model on the data for 1 epoch."
      ]
    },
    {
      "cell_type": "code",
      "execution_count": 12,
      "metadata": {
        "id": "kFMDxaNDlRw0"
      },
      "outputs": [],
      "source": [
        "# training function - 1 epoch\n",
        "def train(\n",
        "    train_loader,\n",
        "    model,\n",
        "    criterion,\n",
        "    optimizer,\n",
        "    epoch,\n",
        "    epochs,\n",
        "    print_freq = 100,\n",
        "    verbose = True\n",
        "):\n",
        "\n",
        "    # track average and worst losses\n",
        "    losses = AverageMeter()\n",
        "\n",
        "    # set training mode\n",
        "    model.train()\n",
        "\n",
        "    # iterate over data - automatically shuffled\n",
        "    for i, (images, labels) in enumerate(train_loader):\n",
        "\n",
        "        # put batch of image tensors on GPU\n",
        "        images = images.to(device)\n",
        "        # put batch of label tensors on GPU\n",
        "        labels = labels.to(device)\n",
        "\n",
        "        # zero the parameter gradients\n",
        "        optimizer.zero_grad()\n",
        "\n",
        "        # model output\n",
        "        outputs = model(images)\n",
        "\n",
        "        # loss computation\n",
        "        loss = criterion(outputs, labels)\n",
        "\n",
        "        # back propagation\n",
        "        loss.backward()\n",
        "\n",
        "        # update model parameters\n",
        "        optimizer.step()\n",
        "\n",
        "        # update meter with the value of the loss once for each item in the batch\n",
        "        losses.update(loss.item(), images.size(0))\n",
        "\n",
        "        # logging during epoch\n",
        "        if i % print_freq == 0 and verbose == True:\n",
        "            print(\n",
        "                f'Epoch: [{epoch+1}/{epochs}][{i:4}/{len(train_loader)}]\\t'\n",
        "                f'Loss: {losses.val:.4f} ({losses.avg:.4f} on avg)'\n",
        "            )\n",
        "\n",
        "    # log again at end of epoch\n",
        "    print(f'\\n* Epoch: [{epoch+1}/{epochs}]\\tTrain loss: {losses.avg:.3f}\\n')\n",
        "\n",
        "    return losses.avg"
      ]
    },
    {
      "cell_type": "code",
      "execution_count": 13,
      "metadata": {
        "id": "DDJnoe7Pu5ez"
      },
      "outputs": [],
      "source": [
        "# val function\n",
        "def validate(\n",
        "    val_loader,\n",
        "    model,\n",
        "    criterion,\n",
        "    epoch,\n",
        "    epochs,\n",
        "    print_freq = 100,\n",
        "    verbose = True\n",
        "):\n",
        "\n",
        "    # track average and worst losses and batch-wise top-1 and top-5 accuracies\n",
        "    losses = AverageMeter()\n",
        "    top1 = AverageMeter()\n",
        "    top5 = AverageMeter()\n",
        "\n",
        "    # set evaluation mode\n",
        "    model.eval()\n",
        "\n",
        "    # iterate over data - automatically shuffled\n",
        "    for i, (images, labels) in enumerate(val_loader):\n",
        "\n",
        "        # put batch of image tensors on GPU\n",
        "        images = images.to(device)\n",
        "        # put batch of label tensors on GPU\n",
        "        labels = labels.to(device)\n",
        "\n",
        "        # model output\n",
        "        output = model(images)\n",
        "\n",
        "        # loss computation\n",
        "        loss = criterion(output, labels)\n",
        "\n",
        "        # top-1 and top-5 accuracy on this batch\n",
        "        err1, err5, = error_rate(output.data, labels, topk=(1, 5))\n",
        "\n",
        "        # update meters with the value of the loss once for each item in the batch\n",
        "        losses.update(loss.item(), images.size(0))\n",
        "        # update meters with top-1 and top-5 accuracy on this batch once for each item in the batch\n",
        "        top1.update(err1.item(), images.size(0))\n",
        "        top5.update(err5.item(), images.size(0))\n",
        "\n",
        "        # logging during epoch\n",
        "        if i % print_freq == 0 and verbose == True:\n",
        "            print(\n",
        "                f'Test (on val set): [{epoch+1}/{epochs}][{i:4}/{len(val_loader)}]\\t'\n",
        "                f'Loss: {losses.val:.4f} ({losses.avg:.4f} on avg)\\t'\n",
        "                f'Top-1 err: {top1.val:.4f} ({top1.avg:.4f} on avg)\\t'\n",
        "                f'Top-5 err: {top5.val:.4f} ({top5.avg:.4f} on avg)'\n",
        "            )\n",
        "\n",
        "    # logging for end of epoch\n",
        "    print(\n",
        "        f'\\n* Epoch: [{epoch+1}/{epochs}]\\t'\n",
        "        f'Test loss: {losses.avg:.3f}\\t'\n",
        "        f'Top-1 err: {top1.avg:.3f}\\t'\n",
        "        f'Top-5 err: {top5.avg:.3f}\\n'\n",
        "    )\n",
        "\n",
        "    # avergae top-1 and top-5 accuracies batch-wise, and average loss batch-wise\n",
        "    return top1.avg, top5.avg, losses.avg"
      ]
    },
    {
      "cell_type": "code",
      "execution_count": 14,
      "metadata": {
        "id": "AKwJjLLU11vg"
      },
      "outputs": [],
      "source": [
        "# best error rates so far\n",
        "best_err1 = 100\n",
        "best_err5 = 100"
      ]
    },
    {
      "cell_type": "code",
      "execution_count": 15,
      "metadata": {
        "colab": {
          "base_uri": "https://localhost:8080/"
        },
        "id": "hGxrBqkt0IsB",
        "outputId": "e3095f3f-ef72-4ad9-c720-adb5c5851ab7",
        "collapsed": true
      },
      "outputs": [
        {
          "output_type": "stream",
          "name": "stdout",
          "text": [
            "Epoch: [1/3][   0/1250]\tLoss: 2.3160 (2.3160 on avg)\n",
            "Epoch: [1/3][ 100/1250]\tLoss: 2.3129 (2.3039 on avg)\n",
            "Epoch: [1/3][ 200/1250]\tLoss: 2.2963 (2.3035 on avg)\n",
            "Epoch: [1/3][ 300/1250]\tLoss: 2.2995 (2.3032 on avg)\n",
            "Epoch: [1/3][ 400/1250]\tLoss: 2.2984 (2.3026 on avg)\n",
            "Epoch: [1/3][ 500/1250]\tLoss: 2.2937 (2.3020 on avg)\n",
            "Epoch: [1/3][ 600/1250]\tLoss: 2.3009 (2.3015 on avg)\n",
            "Epoch: [1/3][ 700/1250]\tLoss: 2.3031 (2.3010 on avg)\n",
            "Epoch: [1/3][ 800/1250]\tLoss: 2.2907 (2.3003 on avg)\n",
            "Epoch: [1/3][ 900/1250]\tLoss: 2.2918 (2.2995 on avg)\n",
            "Epoch: [1/3][1000/1250]\tLoss: 2.2854 (2.2986 on avg)\n",
            "Epoch: [1/3][1100/1250]\tLoss: 2.2797 (2.2974 on avg)\n",
            "Epoch: [1/3][1200/1250]\tLoss: 2.2659 (2.2956 on avg)\n",
            "\n",
            "* Epoch: [1/3]\tTrain loss: 2.294\n",
            "\n",
            "Test (on val set): [1/3][   0/313]\tLoss: 2.2420 (2.2420 on avg)\tTop-1 err: 75.0000 (75.0000 on avg)\tTop-5 err: 6.2500 (6.2500 on avg)\n",
            "Test (on val set): [1/3][ 100/313]\tLoss: 2.2659 (2.2601 on avg)\tTop-1 err: 84.3750 (80.6621 on avg)\tTop-5 err: 21.8750 (27.4752 on avg)\n",
            "Test (on val set): [1/3][ 200/313]\tLoss: 2.2496 (2.2591 on avg)\tTop-1 err: 75.0000 (79.6642 on avg)\tTop-5 err: 25.0000 (27.3943 on avg)\n",
            "Test (on val set): [1/3][ 300/313]\tLoss: 2.2571 (2.2597 on avg)\tTop-1 err: 81.2500 (79.9626 on avg)\tTop-5 err: 21.8750 (27.7824 on avg)\n",
            "\n",
            "* Epoch: [1/3]\tTest loss: 2.260\tTop-1 err: 79.960\tTop-5 err: 27.880\n",
            "\n",
            "Current best error rate (top-1 and top-5 error): 79.96 27.88 \n",
            "\n",
            "Epoch: [2/3][   0/1250]\tLoss: 2.2666 (2.2666 on avg)\n",
            "Epoch: [2/3][ 100/1250]\tLoss: 2.2066 (2.2446 on avg)\n",
            "Epoch: [2/3][ 200/1250]\tLoss: 2.1811 (2.2251 on avg)\n",
            "Epoch: [2/3][ 300/1250]\tLoss: 2.0256 (2.2007 on avg)\n",
            "Epoch: [2/3][ 400/1250]\tLoss: 2.0202 (2.1781 on avg)\n",
            "Epoch: [2/3][ 500/1250]\tLoss: 2.0648 (2.1549 on avg)\n",
            "Epoch: [2/3][ 600/1250]\tLoss: 1.9502 (2.1339 on avg)\n",
            "Epoch: [2/3][ 700/1250]\tLoss: 1.8852 (2.1176 on avg)\n",
            "Epoch: [2/3][ 800/1250]\tLoss: 1.9594 (2.0992 on avg)\n",
            "Epoch: [2/3][ 900/1250]\tLoss: 1.9539 (2.0807 on avg)\n",
            "Epoch: [2/3][1000/1250]\tLoss: 1.9370 (2.0653 on avg)\n",
            "Epoch: [2/3][1100/1250]\tLoss: 2.0379 (2.0502 on avg)\n",
            "Epoch: [2/3][1200/1250]\tLoss: 2.1957 (2.0368 on avg)\n",
            "\n",
            "* Epoch: [2/3]\tTrain loss: 2.029\n",
            "\n",
            "Test (on val set): [2/3][   0/313]\tLoss: 1.6111 (1.6111 on avg)\tTop-1 err: 50.0000 (50.0000 on avg)\tTop-5 err: 9.3750 (9.3750 on avg)\n",
            "Test (on val set): [2/3][ 100/313]\tLoss: 1.6998 (1.8011 on avg)\tTop-1 err: 71.8750 (64.6658 on avg)\tTop-5 err: 12.5000 (14.6349 on avg)\n",
            "Test (on val set): [2/3][ 200/313]\tLoss: 1.6464 (1.8054 on avg)\tTop-1 err: 62.5000 (65.0498 on avg)\tTop-5 err: 12.5000 (14.3501 on avg)\n",
            "Test (on val set): [2/3][ 300/313]\tLoss: 1.7919 (1.8172 on avg)\tTop-1 err: 56.2500 (65.3032 on avg)\tTop-5 err: 12.5000 (14.7218 on avg)\n",
            "\n",
            "* Epoch: [2/3]\tTest loss: 1.817\tTop-1 err: 65.300\tTop-5 err: 14.730\n",
            "\n",
            "Current best error rate (top-1 and top-5 error): 65.3 14.73 \n",
            "\n",
            "Epoch: [3/3][   0/1250]\tLoss: 1.7280 (1.7280 on avg)\n",
            "Epoch: [3/3][ 100/1250]\tLoss: 2.0218 (1.7980 on avg)\n",
            "Epoch: [3/3][ 200/1250]\tLoss: 1.9821 (1.7853 on avg)\n",
            "Epoch: [3/3][ 300/1250]\tLoss: 2.0318 (1.7739 on avg)\n",
            "Epoch: [3/3][ 400/1250]\tLoss: 1.8562 (1.7688 on avg)\n",
            "Epoch: [3/3][ 500/1250]\tLoss: 1.5606 (1.7622 on avg)\n",
            "Epoch: [3/3][ 600/1250]\tLoss: 1.9126 (1.7525 on avg)\n",
            "Epoch: [3/3][ 700/1250]\tLoss: 1.4648 (1.7462 on avg)\n",
            "Epoch: [3/3][ 800/1250]\tLoss: 1.5985 (1.7372 on avg)\n",
            "Epoch: [3/3][ 900/1250]\tLoss: 1.6027 (1.7274 on avg)\n",
            "Epoch: [3/3][1000/1250]\tLoss: 1.6148 (1.7196 on avg)\n",
            "Epoch: [3/3][1100/1250]\tLoss: 1.7858 (1.7109 on avg)\n",
            "Epoch: [3/3][1200/1250]\tLoss: 1.5947 (1.7057 on avg)\n",
            "\n",
            "* Epoch: [3/3]\tTrain loss: 1.701\n",
            "\n",
            "Test (on val set): [3/3][   0/313]\tLoss: 1.4810 (1.4810 on avg)\tTop-1 err: 50.0000 (50.0000 on avg)\tTop-5 err: 3.1250 (3.1250 on avg)\n",
            "Test (on val set): [3/3][ 100/313]\tLoss: 1.7380 (1.5796 on avg)\tTop-1 err: 62.5000 (59.1275 on avg)\tTop-5 err: 6.2500 (9.3750 on avg)\n",
            "Test (on val set): [3/3][ 200/313]\tLoss: 1.5773 (1.5554 on avg)\tTop-1 err: 59.3750 (58.0690 on avg)\tTop-5 err: 9.3750 (8.7998 on avg)\n",
            "Test (on val set): [3/3][ 300/313]\tLoss: 1.5259 (1.5563 on avg)\tTop-1 err: 65.6250 (57.8696 on avg)\tTop-5 err: 3.1250 (8.8663 on avg)\n",
            "\n",
            "* Epoch: [3/3]\tTest loss: 1.556\tTop-1 err: 57.820\tTop-5 err: 8.830\n",
            "\n",
            "Current best error rate (top-1 and top-5 error): 57.82 8.83 \n",
            "\n",
            "Best error rate (top-1 and top-5 error): 57.82 8.83\n"
          ]
        }
      ],
      "source": [
        "# Run the main function.\n",
        "if __name__ == '__main__':\n",
        "\n",
        "    # select a model to train here\n",
        "    model = CIFAR10Net()\n",
        "    # move to GPU\n",
        "    model.to(device)\n",
        "\n",
        "    # select number of epochs\n",
        "    epochs = 3\n",
        "\n",
        "    # get criterion and optimizer\n",
        "    criterion, optimizer = get_crit_and_opt(model)\n",
        "\n",
        "    # epoch loop\n",
        "    for epoch in range(0, epochs):\n",
        "\n",
        "        # train for one epoch\n",
        "        train_loss = train(\n",
        "          train_loader,\n",
        "          model,\n",
        "          criterion,\n",
        "          optimizer,\n",
        "          epoch,\n",
        "          epochs\n",
        "        )\n",
        "\n",
        "        # evaluate on validation set\n",
        "        err1, err5, val_loss = validate(\n",
        "          val_loader,\n",
        "          model,\n",
        "          criterion,\n",
        "          epoch,\n",
        "          epochs\n",
        "        )\n",
        "\n",
        "        # remember best prec@1 and save checkpoint\n",
        "        is_best = err1 <= best_err1\n",
        "        best_err1 = min(err1, best_err1)\n",
        "        if is_best:\n",
        "            best_err5 = err5\n",
        "\n",
        "        print('Current best error rate (top-1 and top-5 error):', best_err1, best_err5, '\\n')\n",
        "    print('Best error rate (top-1 and top-5 error):', best_err1, best_err5)"
      ]
    },
    {
      "cell_type": "markdown",
      "metadata": {
        "id": "tl1xnaY-m1kX"
      },
      "source": [
        "Create a SciKit-Learn [classification report](https://scikit-learn.org/stable/modules/generated/sklearn.metrics.classification_report.html) for one of your models.\n",
        "\n",
        "This report will show accuracy, classwise precision, recall, and F1, as well as averaged metrics over the classes."
      ]
    },
    {
      "cell_type": "code",
      "execution_count": 16,
      "metadata": {
        "id": "j6l7WQ7QnDGj"
      },
      "outputs": [],
      "source": [
        "# Create a classification report for one model [10 pts]\n",
        "from sklearn.metrics import classification_report\n",
        "\n",
        "# get the true classes and model predictions for the test set for one model\n",
        "model.eval()\n",
        "\n",
        "y_true = []\n",
        "y_pred= []\n",
        "with torch.no_grad():\n",
        "  for i, (images, labels) in enumerate(test_loader):\n",
        "    images = images.to(device)\n",
        "    labels = labels.to(device)\n",
        "\n",
        "    outputs = model(images)\n",
        "    _, preds = torch.max(outputs, 1)\n",
        "\n",
        "    y_true.extend(labels.cpu().numpy())\n",
        "    y_pred.extend(preds.cpu().numpy())\n",
        "\n",
        "# y_true = the true numerical classes\n",
        "# y_pred = predicted numerical classes\n",
        "# target_names = string names of the classes\n",
        "target_names = ['airplane', 'automobile', 'bird', 'cat', 'deer', 'dog', 'frog', 'horse', 'ship', 'truck']\n",
        "\n",
        "report = classification_report(y_true, y_pred, target_names=target_names)"
      ]
    },
    {
      "cell_type": "code",
      "source": [
        "print(report)"
      ],
      "metadata": {
        "colab": {
          "base_uri": "https://localhost:8080/"
        },
        "id": "ic5TDQZ6dw2L",
        "outputId": "1c348a38-5f95-4da1-e578-622c33772fd0"
      },
      "execution_count": 17,
      "outputs": [
        {
          "output_type": "stream",
          "name": "stdout",
          "text": [
            "              precision    recall  f1-score   support\n",
            "\n",
            "    airplane       0.46      0.53      0.49       973\n",
            "  automobile       0.51      0.53      0.52       979\n",
            "        bird       0.32      0.21      0.26      1030\n",
            "         cat       0.32      0.09      0.14      1023\n",
            "        deer       0.40      0.29      0.34       933\n",
            "         dog       0.33      0.46      0.39      1015\n",
            "        frog       0.38      0.61      0.47       996\n",
            "       horse       0.41      0.51      0.45       994\n",
            "        ship       0.58      0.39      0.46      1017\n",
            "       truck       0.47      0.58      0.52      1040\n",
            "\n",
            "    accuracy                           0.42     10000\n",
            "   macro avg       0.42      0.42      0.40     10000\n",
            "weighted avg       0.42      0.42      0.40     10000\n",
            "\n"
          ]
        }
      ]
    }
  ],
  "metadata": {
    "accelerator": "GPU",
    "colab": {
      "gpuType": "T4",
      "provenance": []
    },
    "kernelspec": {
      "display_name": "Python 3",
      "name": "python3"
    },
    "language_info": {
      "name": "python"
    }
  },
  "nbformat": 4,
  "nbformat_minor": 0
}